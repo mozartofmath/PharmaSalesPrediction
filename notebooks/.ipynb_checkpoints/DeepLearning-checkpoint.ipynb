{
 "cells": [
  {
   "cell_type": "code",
   "execution_count": 16,
   "metadata": {},
   "outputs": [],
   "source": [
    "import pandas as pd\n",
    "import numpy as np\n",
    "import seaborn as sns\n",
    "import matplotlib.pyplot as plt\n",
    "\n",
    "import mlflow\n",
    "\n",
    "import logging\n",
    "import pickle\n",
    "\n",
    "from sklearn.preprocessing import MinMaxScaler\n",
    "from sklearn.model_selection import train_test_split\n",
    "\n",
    "from tensorflow.keras.models import Sequential\n",
    "from tensorflow.keras.layers import Dense, LSTM\n",
    "\n",
    "from sklearn.metrics import r2_score, mean_squared_error\n",
    "\n",
    "from statsmodels.graphics.tsaplots import plot_acf, plot_pacf\n",
    "\n",
    "import sys\n",
    "from datetime import datetime"
   ]
  },
  {
   "cell_type": "markdown",
   "metadata": {},
   "source": [
    "### Load Dataset"
   ]
  },
  {
   "cell_type": "code",
   "execution_count": 2,
   "metadata": {},
   "outputs": [],
   "source": [
    "logging.info('Load Training Set')"
   ]
  },
  {
   "cell_type": "code",
   "execution_count": 243,
   "metadata": {},
   "outputs": [],
   "source": [
    "import warnings\n",
    "warnings.filterwarnings('ignore')\n",
    "pd.set_option('max_column', None)\n",
    "\n",
    "try:\n",
    "    df_train = pd.read_csv('../data/train_final.csv', na_values=['?', None, 'undefined'])\n",
    "except FileNotFoundError:\n",
    "    print('Error: File not found')"
   ]
  },
  {
   "cell_type": "code",
   "execution_count": null,
   "metadata": {},
   "outputs": [],
   "source": [
    "df_train = df_train.reindex(index=df_train.index[::-1])\n",
    "df_train.head()"
   ]
  },
  {
   "cell_type": "code",
   "execution_count": 4,
   "metadata": {},
   "outputs": [],
   "source": [
    "logging.info('Load Test Set')"
   ]
  },
  {
   "cell_type": "code",
   "execution_count": 248,
   "metadata": {
    "scrolled": true
   },
   "outputs": [],
   "source": [
    "try:\n",
    "    df_test = pd.read_csv('../data/test_final.csv', na_values=['?', None, 'undefined'])\n",
    "except FileNotFoundError:\n",
    "    print('Error: File not found')"
   ]
  },
  {
   "cell_type": "code",
   "execution_count": null,
   "metadata": {},
   "outputs": [],
   "source": [
    "df_test = df_test.reindex(index=df_test.index[::-1])\n",
    "df_test.head()"
   ]
  },
  {
   "cell_type": "markdown",
   "metadata": {},
   "source": [
    "### Check whether your time Series Data is Stationary"
   ]
  },
  {
   "cell_type": "code",
   "execution_count": 6,
   "metadata": {},
   "outputs": [
    {
     "name": "stdout",
     "output_type": "stream",
     "text": [
      "mean1=5648.631594, mean2=5899.006105\n",
      "variance1=14290518.018749, variance2=15321971.236433\n"
     ]
    }
   ],
   "source": [
    "sales = df_train['Sales'].values\n",
    "split = len(sales) // 2\n",
    "X1, X2 = sales[0:split], sales[split:]\n",
    "mean1, mean2 = X1.mean(), X2.mean()\n",
    "var1, var2 = X1.var(), X2.var()\n",
    "print('mean1=%f, mean2=%f' % (mean1, mean2))\n",
    "print('variance1=%f, variance2=%f' % (var1, var2))"
   ]
  },
  {
   "cell_type": "markdown",
   "metadata": {},
   "source": [
    "The data is not statonary because the **means** and **variances** are significantly different"
   ]
  },
  {
   "cell_type": "markdown",
   "metadata": {},
   "source": [
    "###  Autocorrelation and partial autocorrelation"
   ]
  },
  {
   "cell_type": "code",
   "execution_count": 7,
   "metadata": {},
   "outputs": [
    {
     "data": {
      "image/png": "[encoded data removed]",
      "text/plain": [
       "<Figure size 432x288 with 1 Axes>"
      ]
     },
     "metadata": {
      "needs_background": "light"
     },
     "output_type": "display_data"
    }
   ],
   "source": [
    "plot_acf(sales[:20000])\n",
    "plt.show()"
   ]
  },
  {
   "cell_type": "markdown",
   "metadata": {},
   "source": [
    "The Pearson’s correlation coefficient is a number between -1 and 1 that describes a negative or positive correlation respectively. A value of zero indicates no correlation.\n",
    "\n",
    "We can calculate the correlation for time series observations with observations with previous time steps, called lags. Because the correlation of the time series observations is calculated with values of the same series at previous times, this is called a serial correlation, or an autocorrelation.\n",
    "\n",
    "A plot of the autocorrelation of a time series by lag is called the AutoCorrelation Function, or the acronym ACF. This plot is sometimes called a correlogram or an autocorrelation plot.\n",
    "\n",
    "Confidence intervals are drawn as a cone. By default, this is set to a 95% confidence interval, suggesting that correlation values outside of this code are very likely a correlation and not a statistical fluke."
   ]
  },
  {
   "cell_type": "code",
   "execution_count": 8,
   "metadata": {},
   "outputs": [
    {
     "data": {
      "image/png": "[encoded data removed]",
      "text/plain": [
       "<Figure size 432x288 with 1 Axes>"
      ]
     },
     "metadata": {
      "needs_background": "light"
     },
     "output_type": "display_data"
    }
   ],
   "source": [
    "plot_pacf(sales[:20000], lags=100)\n",
    "plt.show()"
   ]
  },
  {
   "cell_type": "markdown",
   "metadata": {},
   "source": [
    "A partial autocorrelation is a summary of the relationship between an observation in a time series with observations at prior time steps with the relationships of intervening observations removed.\n",
    "\n",
    "The autocorrelation for an observation and an observation at a prior time step is comprised of both the direct correlation and indirect correlations. These indirect correlations are a linear function of the correlation of the observation, with observations at intervening time steps.\n",
    "\n",
    "It is these indirect correlations that the partial autocorrelation function seeks to remove. Without going into the math, this is the intuition for the partial autocorrelation."
   ]
  },
  {
   "cell_type": "markdown",
   "metadata": {},
   "source": [
    "### Scale Data"
   ]
  },
  {
   "cell_type": "code",
   "execution_count": 227,
   "metadata": {},
   "outputs": [
    {
     "name": "stdout",
     "output_type": "stream",
     "text": [
      "average daily earning for store number 16 is 6351.589743589743\n"
     ]
    },
    {
     "data": {
      "text/plain": [
       "((942, 18), (936, 1))"
      ]
     },
     "execution_count": 227,
     "metadata": {},
     "output_type": "execute_result"
    }
   ],
   "source": [
    "store_id = 16\n",
    "X = df_train[df_train['Store'] == store_id].values\n",
    "\n",
    "\n",
    "sc_x = MinMaxScaler(feature_range=(-1, 1))\n",
    "sc_y = MinMaxScaler(feature_range=(-1, 1))\n",
    "\n",
    "\n",
    "y = X[:,[-1]][6:]\n",
    "X = X[:,:-1]\n",
    "\n",
    "print(f'average daily earning for store number {store_id} is', y.mean())\n",
    "\n",
    "X = sc_x.fit_transform(X)\n",
    "y = sc_y.fit_transform(y)\n",
    "\n",
    "\n",
    "X.shape, y.shape"
   ]
  },
  {
   "cell_type": "code",
   "execution_count": 228,
   "metadata": {},
   "outputs": [],
   "source": [
    "#X[1], y[1]"
   ]
  },
  {
   "cell_type": "code",
   "execution_count": 229,
   "metadata": {},
   "outputs": [
    {
     "data": {
      "text/plain": [
       "(936, 7, 18)"
      ]
     },
     "execution_count": 229,
     "metadata": {},
     "output_type": "execute_result"
    }
   ],
   "source": [
    "def window(array, size):\n",
    "    l = []\n",
    "    for i in range(len(array)-size+1):\n",
    "        l.append(array[i:i+size])\n",
    "    return np.array(l)\n",
    "X = window(X,7)\n",
    "X.shape"
   ]
  },
  {
   "cell_type": "markdown",
   "metadata": {},
   "source": [
    "### Train Test Split"
   ]
  },
  {
   "cell_type": "code",
   "execution_count": 230,
   "metadata": {},
   "outputs": [
    {
     "data": {
      "text/plain": [
       "((842, 7, 18), (94, 7, 18), (842, 1), (94, 1))"
      ]
     },
     "execution_count": 230,
     "metadata": {},
     "output_type": "execute_result"
    }
   ],
   "source": [
    "ind = int(len(X)*90/100)\n",
    "X_train, X_test, y_train, y_test = X[:ind], X[ind:], y[:ind], y[ind:]\n",
    "X_train.shape, X_test.shape, y_train.shape, y_test.shape"
   ]
  },
  {
   "cell_type": "markdown",
   "metadata": {},
   "source": [
    "## Window Dataset"
   ]
  },
  {
   "cell_type": "code",
   "execution_count": null,
   "metadata": {},
   "outputs": [],
   "source": []
  },
  {
   "cell_type": "code",
   "execution_count": 223,
   "metadata": {},
   "outputs": [
    {
     "name": "stdout",
     "output_type": "stream",
     "text": [
      "_________________________________________________________________\n",
      "Layer (type)                 Output Shape              Param #   \n",
      "=================================================================\n",
      "lstm_24 (LSTM)               (None, 7, 20)             3120      \n",
      "_________________________________________________________________\n",
      "lstm_25 (LSTM)               (None, 10)                1240      \n",
      "_________________________________________________________________\n",
      "dense_12 (Dense)             (None, 1)                 11        \n",
      "=================================================================\n",
      "Total params: 4,371\n",
      "Trainable params: 4,371\n",
      "Non-trainable params: 0\n",
      "_________________________________________________________________\n"
     ]
    }
   ],
   "source": [
    "regressor = Sequential()\n",
    "\n",
    "regressor.add(LSTM(20, activation = 'sigmoid', return_sequences=True, input_shape = (7, 18)))\n",
    "regressor.add(LSTM(10))\n",
    "regressor.add(Dense(1))\n",
    "\n",
    "regressor.compile(optimizer = 'adam', loss = 'mean_squared_error')\n",
    "\n",
    "regressor.summary()"
   ]
  },
  {
   "cell_type": "markdown",
   "metadata": {},
   "source": [
    "### Train Model"
   ]
  },
  {
   "cell_type": "code",
   "execution_count": 224,
   "metadata": {},
   "outputs": [
    {
     "name": "stdout",
     "output_type": "stream",
     "text": [
      "Epoch 1/50\n",
      "842/842 [==============================] - 14s 17ms/sample - loss: 0.1357\n",
      "Epoch 2/50\n",
      "842/842 [==============================] - 4s 5ms/sample - loss: 0.0371\n",
      "Epoch 3/50\n",
      "842/842 [==============================] - 4s 5ms/sample - loss: 0.0239\n",
      "Epoch 4/50\n",
      "842/842 [==============================] - 5s 6ms/sample - loss: 0.0189\n",
      "Epoch 5/50\n",
      "842/842 [==============================] - 4s 5ms/sample - loss: 0.0169\n",
      "Epoch 6/50\n",
      "842/842 [==============================] - 4s 5ms/sample - loss: 0.0159\n",
      "Epoch 7/50\n",
      "842/842 [==============================] - 4s 5ms/sample - loss: 0.0157\n",
      "Epoch 8/50\n",
      "842/842 [==============================] - 4s 5ms/sample - loss: 0.0155\n",
      "Epoch 9/50\n",
      "842/842 [==============================] - 5s 6ms/sample - loss: 0.0149\n",
      "Epoch 10/50\n",
      "842/842 [==============================] - 5s 6ms/sample - loss: 0.0146\n",
      "Epoch 11/50\n",
      "842/842 [==============================] - ETA: 0s - loss: 0.013 - 4s 5ms/sample - loss: 0.0137\n",
      "Epoch 12/50\n",
      "842/842 [==============================] - 4s 5ms/sample - loss: 0.0144\n",
      "Epoch 13/50\n",
      "842/842 [==============================] - 4s 5ms/sample - loss: 0.0133\n",
      "Epoch 14/50\n",
      "842/842 [==============================] - 4s 5ms/sample - loss: 0.0135\n",
      "Epoch 15/50\n",
      "842/842 [==============================] - 5s 6ms/sample - loss: 0.0130\n",
      "Epoch 16/50\n",
      "842/842 [==============================] - 5s 6ms/sample - loss: 0.0133\n",
      "Epoch 17/50\n",
      "842/842 [==============================] - 5s 5ms/sample - loss: 0.0130\n",
      "Epoch 18/50\n",
      "842/842 [==============================] - 5s 5ms/sample - loss: 0.0128\n",
      "Epoch 19/50\n",
      "842/842 [==============================] - 4s 5ms/sample - loss: 0.0131\n",
      "Epoch 20/50\n",
      "842/842 [==============================] - 4s 5ms/sample - loss: 0.0128\n",
      "Epoch 21/50\n",
      "842/842 [==============================] - 4s 5ms/sample - loss: 0.0126\n",
      "Epoch 22/50\n",
      "842/842 [==============================] - 4s 5ms/sample - loss: 0.0123\n",
      "Epoch 23/50\n",
      "842/842 [==============================] - 4s 5ms/sample - loss: 0.0126\n",
      "Epoch 24/50\n",
      "842/842 [==============================] - 4s 5ms/sample - loss: 0.0124\n",
      "Epoch 25/50\n",
      "842/842 [==============================] - 4s 5ms/sample - loss: 0.0117\n",
      "Epoch 26/50\n",
      "842/842 [==============================] - 4s 5ms/sample - loss: 0.0121\n",
      "Epoch 27/50\n",
      "842/842 [==============================] - 4s 5ms/sample - loss: 0.0119\n",
      "Epoch 28/50\n",
      "842/842 [==============================] - 4s 5ms/sample - loss: 0.0117\n",
      "Epoch 29/50\n",
      "842/842 [==============================] - 4s 5ms/sample - loss: 0.0114\n",
      "Epoch 30/50\n",
      "842/842 [==============================] - 4s 5ms/sample - loss: 0.0116\n",
      "Epoch 31/50\n",
      "842/842 [==============================] - 4s 5ms/sample - loss: 0.0114\n",
      "Epoch 32/50\n",
      "842/842 [==============================] - 4s 5ms/sample - loss: 0.0114\n",
      "Epoch 33/50\n",
      "842/842 [==============================] - 4s 5ms/sample - loss: 0.0110\n",
      "Epoch 34/50\n",
      "842/842 [==============================] - 4s 5ms/sample - loss: 0.0114\n",
      "Epoch 35/50\n",
      "842/842 [==============================] - 4s 5ms/sample - loss: 0.0109\n",
      "Epoch 36/50\n",
      "842/842 [==============================] - 4s 5ms/sample - loss: 0.0107\n",
      "Epoch 37/50\n",
      "842/842 [==============================] - 4s 5ms/sample - loss: 0.0107\n",
      "Epoch 38/50\n",
      "842/842 [==============================] - 4s 5ms/sample - loss: 0.0105\n",
      "Epoch 39/50\n",
      "842/842 [==============================] - 4s 5ms/sample - loss: 0.0102\n",
      "Epoch 40/50\n",
      "842/842 [==============================] - 4s 5ms/sample - loss: 0.0100\n",
      "Epoch 41/50\n",
      "842/842 [==============================] - 5s 6ms/sample - loss: 0.0102\n",
      "Epoch 42/50\n",
      "842/842 [==============================] - 4s 5ms/sample - loss: 0.0100\n",
      "Epoch 43/50\n",
      "842/842 [==============================] - 4s 5ms/sample - loss: 0.0096\n",
      "Epoch 44/50\n",
      "842/842 [==============================] - 4s 5ms/sample - loss: 0.0097\n",
      "Epoch 45/50\n",
      "842/842 [==============================] - 4s 5ms/sample - loss: 0.0093\n",
      "Epoch 46/50\n",
      "842/842 [==============================] - 4s 5ms/sample - loss: 0.0093\n",
      "Epoch 47/50\n",
      "842/842 [==============================] - 4s 5ms/sample - loss: 0.0096\n",
      "Epoch 48/50\n",
      "842/842 [==============================] - 4s 5ms/sample - loss: 0.0087\n",
      "Epoch 49/50\n",
      "842/842 [==============================] - 4s 5ms/sample - loss: 0.0084\n",
      "Epoch 50/50\n",
      "842/842 [==============================] - 5s 5ms/sample - loss: 0.0090\n"
     ]
    },
    {
     "data": {
      "text/plain": [
       "<tensorflow.python.keras.callbacks.History at 0x2b8800dd68>"
      ]
     },
     "execution_count": 224,
     "metadata": {},
     "output_type": "execute_result"
    }
   ],
   "source": [
    "regressor.fit(X_train, y_train, batch_size = 2, epochs = 50)"
   ]
  },
  {
   "cell_type": "markdown",
   "metadata": {},
   "source": [
    "### Test Model"
   ]
  },
  {
   "cell_type": "code",
   "execution_count": 238,
   "metadata": {
    "scrolled": false
   },
   "outputs": [
    {
     "name": "stdout",
     "output_type": "stream",
     "text": [
      "r2 score: 0.9564035453684754\n",
      "root mean squared error: 752.9189567140689\n"
     ]
    },
    {
     "data": {
      "image/png": "[encoded data removed]",
      "text/plain": [
       "<Figure size 432x288 with 1 Axes>"
      ]
     },
     "metadata": {
      "needs_background": "light"
     },
     "output_type": "display_data"
    }
   ],
   "source": [
    "\n",
    "y_pred = regressor.predict(X_test)\n",
    "#predicted_price = sc.inverse_transform(predicted_price)\n",
    "y_pred_inv = sc_y.inverse_transform(y_pred)\n",
    "y_test_inv = sc_y.inverse_transform(y_test)\n",
    "\n",
    "\n",
    "print('r2 score:', r2_score(y_test_inv, y_pred_inv))\n",
    "print('root mean squared error:', mean_squared_error(y_test_inv, y_pred_inv)**0.5)\n",
    "\n",
    "plt.plot(sc_y.inverse_transform(y_test_inv), color = 'red', label = 'Real Sales')\n",
    "plt.plot(sc_y.inverse_transform(y_pred_inv), color = 'blue', label = 'Predicted Sales')\n",
    "plt.title('Pharma Sales Prediction')\n",
    "plt.xlabel('Time')\n",
    "plt.ylabel('Sales')\n",
    "plt.legend()\n",
    "plt.show()"
   ]
  },
  {
   "cell_type": "code",
   "execution_count": null,
   "metadata": {},
   "outputs": [],
   "source": []
  },
  {
   "cell_type": "code",
   "execution_count": null,
   "metadata": {},
   "outputs": [],
   "source": []
  },
  {
   "cell_type": "markdown",
   "metadata": {},
   "source": [
    "### Save Model"
   ]
  },
  {
   "cell_type": "code",
   "execution_count": 240,
   "metadata": {},
   "outputs": [],
   "source": [
    "regressor.save(f\"../models/store_{store_id}_lstm_model.h5\")"
   ]
  },
  {
   "cell_type": "code",
   "execution_count": 29,
   "metadata": {},
   "outputs": [],
   "source": []
  },
  {
   "cell_type": "code",
   "execution_count": null,
   "metadata": {},
   "outputs": [],
   "source": []
  },
  {
   "cell_type": "code",
   "execution_count": null,
   "metadata": {},
   "outputs": [],
   "source": []
  }
 ],
 "metadata": {
  "kernelspec": {
   "display_name": "Python 3",
   "language": "python",
   "name": "python3"
  },
  "language_info": {
   "codemirror_mode": {
    "name": "ipython",
    "version": 3
   },
   "file_extension": ".py",
   "mimetype": "text/x-python",
   "name": "python",
   "nbconvert_exporter": "python",
   "pygments_lexer": "ipython3",
   "version": "3.7.1"
  }
 },
 "nbformat": 4,
 "nbformat_minor": 2
}
