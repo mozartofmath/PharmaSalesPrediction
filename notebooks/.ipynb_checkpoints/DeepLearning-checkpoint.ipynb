{
 "cells": [
  {
   "cell_type": "code",
   "execution_count": 48,
   "metadata": {},
   "outputs": [],
   "source": [
    "import pandas as pd\n",
    "import numpy as np\n",
    "import seaborn as sns\n",
    "import matplotlib.pyplot as plt\n",
    "\n",
    "import mlflow\n",
    "\n",
    "import logging\n",
    "import pickle\n",
    "\n",
    "from sklearn.preprocessing import StandardScaler\n",
    "from sklearn.model_selection import train_test_split\n",
    "\n",
    "from tensorflow.keras.models import Sequential\n",
    "from tensorflow.keras.layers import Dense, LSTM\n",
    "\n",
    "from sklearn.metrics import r2_score, mean_squared_error\n",
    "\n",
    "from statsmodels.graphics.tsaplots import plot_acf, plot_pacf\n",
    "\n",
    "import sys\n",
    "from datetime import datetime"
   ]
  },
  {
   "cell_type": "markdown",
   "metadata": {},
   "source": [
    "### Load Dataset"
   ]
  },
  {
   "cell_type": "code",
   "execution_count": 2,
   "metadata": {},
   "outputs": [],
   "source": [
    "logging.info('Load Training Set')"
   ]
  },
  {
   "cell_type": "code",
   "execution_count": 3,
   "metadata": {},
   "outputs": [
    {
     "data": {
      "text/html": [
       "<div>\n",
       "<style scoped>\n",
       "    .dataframe tbody tr th:only-of-type {\n",
       "        vertical-align: middle;\n",
       "    }\n",
       "\n",
       "    .dataframe tbody tr th {\n",
       "        vertical-align: top;\n",
       "    }\n",
       "\n",
       "    .dataframe thead th {\n",
       "        text-align: right;\n",
       "    }\n",
       "</style>\n",
       "<table border=\"1\" class=\"dataframe\">\n",
       "  <thead>\n",
       "    <tr style=\"text-align: right;\">\n",
       "      <th></th>\n",
       "      <th>Store</th>\n",
       "      <th>DayOfWeek</th>\n",
       "      <th>Open</th>\n",
       "      <th>Promo</th>\n",
       "      <th>Holiday</th>\n",
       "      <th>SchoolHoliday</th>\n",
       "      <th>Day</th>\n",
       "      <th>Month</th>\n",
       "      <th>Year</th>\n",
       "      <th>Weekend</th>\n",
       "      <th>TimeOfMonth</th>\n",
       "      <th>7DayStore</th>\n",
       "      <th>StoreType</th>\n",
       "      <th>Assortment</th>\n",
       "      <th>CompetitionDistance</th>\n",
       "      <th>Promo2</th>\n",
       "      <th>TillHday</th>\n",
       "      <th>AfterHday</th>\n",
       "      <th>Sales</th>\n",
       "    </tr>\n",
       "  </thead>\n",
       "  <tbody>\n",
       "    <tr>\n",
       "      <th>1017208</th>\n",
       "      <td>1115</td>\n",
       "      <td>2</td>\n",
       "      <td>0</td>\n",
       "      <td>0</td>\n",
       "      <td>2</td>\n",
       "      <td>1</td>\n",
       "      <td>1</td>\n",
       "      <td>1</td>\n",
       "      <td>2013</td>\n",
       "      <td>0</td>\n",
       "      <td>0</td>\n",
       "      <td>0</td>\n",
       "      <td>3</td>\n",
       "      <td>2</td>\n",
       "      <td>5350.0</td>\n",
       "      <td>1</td>\n",
       "      <td>0</td>\n",
       "      <td>5</td>\n",
       "      <td>0</td>\n",
       "    </tr>\n",
       "    <tr>\n",
       "      <th>1017207</th>\n",
       "      <td>1114</td>\n",
       "      <td>2</td>\n",
       "      <td>0</td>\n",
       "      <td>0</td>\n",
       "      <td>2</td>\n",
       "      <td>1</td>\n",
       "      <td>1</td>\n",
       "      <td>1</td>\n",
       "      <td>2013</td>\n",
       "      <td>0</td>\n",
       "      <td>0</td>\n",
       "      <td>0</td>\n",
       "      <td>0</td>\n",
       "      <td>2</td>\n",
       "      <td>870.0</td>\n",
       "      <td>0</td>\n",
       "      <td>0</td>\n",
       "      <td>5</td>\n",
       "      <td>0</td>\n",
       "    </tr>\n",
       "    <tr>\n",
       "      <th>1017206</th>\n",
       "      <td>1113</td>\n",
       "      <td>2</td>\n",
       "      <td>0</td>\n",
       "      <td>0</td>\n",
       "      <td>2</td>\n",
       "      <td>1</td>\n",
       "      <td>1</td>\n",
       "      <td>1</td>\n",
       "      <td>2013</td>\n",
       "      <td>0</td>\n",
       "      <td>0</td>\n",
       "      <td>0</td>\n",
       "      <td>0</td>\n",
       "      <td>2</td>\n",
       "      <td>9260.0</td>\n",
       "      <td>0</td>\n",
       "      <td>0</td>\n",
       "      <td>5</td>\n",
       "      <td>0</td>\n",
       "    </tr>\n",
       "    <tr>\n",
       "      <th>1017205</th>\n",
       "      <td>1112</td>\n",
       "      <td>2</td>\n",
       "      <td>0</td>\n",
       "      <td>0</td>\n",
       "      <td>2</td>\n",
       "      <td>1</td>\n",
       "      <td>1</td>\n",
       "      <td>1</td>\n",
       "      <td>2013</td>\n",
       "      <td>0</td>\n",
       "      <td>0</td>\n",
       "      <td>0</td>\n",
       "      <td>2</td>\n",
       "      <td>2</td>\n",
       "      <td>1880.0</td>\n",
       "      <td>0</td>\n",
       "      <td>0</td>\n",
       "      <td>5</td>\n",
       "      <td>0</td>\n",
       "    </tr>\n",
       "    <tr>\n",
       "      <th>1017204</th>\n",
       "      <td>1111</td>\n",
       "      <td>2</td>\n",
       "      <td>0</td>\n",
       "      <td>0</td>\n",
       "      <td>2</td>\n",
       "      <td>1</td>\n",
       "      <td>1</td>\n",
       "      <td>1</td>\n",
       "      <td>2013</td>\n",
       "      <td>0</td>\n",
       "      <td>0</td>\n",
       "      <td>0</td>\n",
       "      <td>0</td>\n",
       "      <td>0</td>\n",
       "      <td>1900.0</td>\n",
       "      <td>1</td>\n",
       "      <td>0</td>\n",
       "      <td>5</td>\n",
       "      <td>0</td>\n",
       "    </tr>\n",
       "  </tbody>\n",
       "</table>\n",
       "</div>"
      ],
      "text/plain": [
       "         Store  DayOfWeek  Open  Promo  Holiday  SchoolHoliday  Day  Month  \\\n",
       "1017208   1115          2     0      0        2              1    1      1   \n",
       "1017207   1114          2     0      0        2              1    1      1   \n",
       "1017206   1113          2     0      0        2              1    1      1   \n",
       "1017205   1112          2     0      0        2              1    1      1   \n",
       "1017204   1111          2     0      0        2              1    1      1   \n",
       "\n",
       "         Year  Weekend  TimeOfMonth  7DayStore  StoreType  Assortment  \\\n",
       "1017208  2013        0            0          0          3           2   \n",
       "1017207  2013        0            0          0          0           2   \n",
       "1017206  2013        0            0          0          0           2   \n",
       "1017205  2013        0            0          0          2           2   \n",
       "1017204  2013        0            0          0          0           0   \n",
       "\n",
       "         CompetitionDistance  Promo2  TillHday  AfterHday  Sales  \n",
       "1017208               5350.0       1         0          5      0  \n",
       "1017207                870.0       0         0          5      0  \n",
       "1017206               9260.0       0         0          5      0  \n",
       "1017205               1880.0       0         0          5      0  \n",
       "1017204               1900.0       1         0          5      0  "
      ]
     },
     "execution_count": 3,
     "metadata": {},
     "output_type": "execute_result"
    }
   ],
   "source": [
    "import warnings\n",
    "warnings.filterwarnings('ignore')\n",
    "pd.set_option('max_column', None)\n",
    "df_train = pd.read_csv('../data/train_final.csv', na_values=['?', None, 'undefined'])\n",
    "df_train = df_train.reindex(index=df_train.index[::-1])\n",
    "df_train.head()"
   ]
  },
  {
   "cell_type": "code",
   "execution_count": 4,
   "metadata": {},
   "outputs": [],
   "source": [
    "logging.info('Load Test Set')"
   ]
  },
  {
   "cell_type": "code",
   "execution_count": 5,
   "metadata": {
    "scrolled": true
   },
   "outputs": [
    {
     "data": {
      "text/html": [
       "<div>\n",
       "<style scoped>\n",
       "    .dataframe tbody tr th:only-of-type {\n",
       "        vertical-align: middle;\n",
       "    }\n",
       "\n",
       "    .dataframe tbody tr th {\n",
       "        vertical-align: top;\n",
       "    }\n",
       "\n",
       "    .dataframe thead th {\n",
       "        text-align: right;\n",
       "    }\n",
       "</style>\n",
       "<table border=\"1\" class=\"dataframe\">\n",
       "  <thead>\n",
       "    <tr style=\"text-align: right;\">\n",
       "      <th></th>\n",
       "      <th>Store</th>\n",
       "      <th>DayOfWeek</th>\n",
       "      <th>Open</th>\n",
       "      <th>Promo</th>\n",
       "      <th>Holiday</th>\n",
       "      <th>SchoolHoliday</th>\n",
       "      <th>Day</th>\n",
       "      <th>Month</th>\n",
       "      <th>Year</th>\n",
       "      <th>Weekend</th>\n",
       "      <th>TimeOfMonth</th>\n",
       "      <th>7DayStore</th>\n",
       "      <th>StoreType</th>\n",
       "      <th>Assortment</th>\n",
       "      <th>CompetitionDistance</th>\n",
       "      <th>Promo2</th>\n",
       "      <th>TillHday</th>\n",
       "      <th>AfterHday</th>\n",
       "    </tr>\n",
       "  </thead>\n",
       "  <tbody>\n",
       "    <tr>\n",
       "      <th>41076</th>\n",
       "      <td>1115</td>\n",
       "      <td>6</td>\n",
       "      <td>1.0</td>\n",
       "      <td>0</td>\n",
       "      <td>1</td>\n",
       "      <td>1</td>\n",
       "      <td>1</td>\n",
       "      <td>8</td>\n",
       "      <td>2015</td>\n",
       "      <td>1</td>\n",
       "      <td>0</td>\n",
       "      <td>0</td>\n",
       "      <td>3</td>\n",
       "      <td>2</td>\n",
       "      <td>5350.0</td>\n",
       "      <td>1</td>\n",
       "      <td>14</td>\n",
       "      <td>14</td>\n",
       "    </tr>\n",
       "    <tr>\n",
       "      <th>41075</th>\n",
       "      <td>1114</td>\n",
       "      <td>6</td>\n",
       "      <td>1.0</td>\n",
       "      <td>0</td>\n",
       "      <td>1</td>\n",
       "      <td>0</td>\n",
       "      <td>1</td>\n",
       "      <td>8</td>\n",
       "      <td>2015</td>\n",
       "      <td>1</td>\n",
       "      <td>0</td>\n",
       "      <td>0</td>\n",
       "      <td>0</td>\n",
       "      <td>2</td>\n",
       "      <td>870.0</td>\n",
       "      <td>0</td>\n",
       "      <td>14</td>\n",
       "      <td>14</td>\n",
       "    </tr>\n",
       "    <tr>\n",
       "      <th>41074</th>\n",
       "      <td>1113</td>\n",
       "      <td>6</td>\n",
       "      <td>1.0</td>\n",
       "      <td>0</td>\n",
       "      <td>1</td>\n",
       "      <td>0</td>\n",
       "      <td>1</td>\n",
       "      <td>8</td>\n",
       "      <td>2015</td>\n",
       "      <td>1</td>\n",
       "      <td>0</td>\n",
       "      <td>0</td>\n",
       "      <td>0</td>\n",
       "      <td>2</td>\n",
       "      <td>9260.0</td>\n",
       "      <td>0</td>\n",
       "      <td>14</td>\n",
       "      <td>14</td>\n",
       "    </tr>\n",
       "    <tr>\n",
       "      <th>41073</th>\n",
       "      <td>1112</td>\n",
       "      <td>6</td>\n",
       "      <td>1.0</td>\n",
       "      <td>0</td>\n",
       "      <td>1</td>\n",
       "      <td>0</td>\n",
       "      <td>1</td>\n",
       "      <td>8</td>\n",
       "      <td>2015</td>\n",
       "      <td>1</td>\n",
       "      <td>0</td>\n",
       "      <td>0</td>\n",
       "      <td>2</td>\n",
       "      <td>2</td>\n",
       "      <td>1880.0</td>\n",
       "      <td>0</td>\n",
       "      <td>14</td>\n",
       "      <td>14</td>\n",
       "    </tr>\n",
       "    <tr>\n",
       "      <th>41072</th>\n",
       "      <td>1111</td>\n",
       "      <td>6</td>\n",
       "      <td>1.0</td>\n",
       "      <td>0</td>\n",
       "      <td>1</td>\n",
       "      <td>0</td>\n",
       "      <td>1</td>\n",
       "      <td>8</td>\n",
       "      <td>2015</td>\n",
       "      <td>1</td>\n",
       "      <td>0</td>\n",
       "      <td>0</td>\n",
       "      <td>0</td>\n",
       "      <td>0</td>\n",
       "      <td>1900.0</td>\n",
       "      <td>1</td>\n",
       "      <td>14</td>\n",
       "      <td>14</td>\n",
       "    </tr>\n",
       "  </tbody>\n",
       "</table>\n",
       "</div>"
      ],
      "text/plain": [
       "       Store  DayOfWeek  Open  Promo  Holiday  SchoolHoliday  Day  Month  \\\n",
       "41076   1115          6   1.0      0        1              1    1      8   \n",
       "41075   1114          6   1.0      0        1              0    1      8   \n",
       "41074   1113          6   1.0      0        1              0    1      8   \n",
       "41073   1112          6   1.0      0        1              0    1      8   \n",
       "41072   1111          6   1.0      0        1              0    1      8   \n",
       "\n",
       "       Year  Weekend  TimeOfMonth  7DayStore  StoreType  Assortment  \\\n",
       "41076  2015        1            0          0          3           2   \n",
       "41075  2015        1            0          0          0           2   \n",
       "41074  2015        1            0          0          0           2   \n",
       "41073  2015        1            0          0          2           2   \n",
       "41072  2015        1            0          0          0           0   \n",
       "\n",
       "       CompetitionDistance  Promo2  TillHday  AfterHday  \n",
       "41076               5350.0       1        14         14  \n",
       "41075                870.0       0        14         14  \n",
       "41074               9260.0       0        14         14  \n",
       "41073               1880.0       0        14         14  \n",
       "41072               1900.0       1        14         14  "
      ]
     },
     "execution_count": 5,
     "metadata": {},
     "output_type": "execute_result"
    }
   ],
   "source": [
    "df_test = pd.read_csv('../data/test_final.csv', na_values=['?', None, 'undefined'])\n",
    "df_test = df_test.reindex(index=df_test.index[::-1])\n",
    "df_test.head()"
   ]
  },
  {
   "cell_type": "markdown",
   "metadata": {},
   "source": [
    "### Check whether your time Series Data is Stationary"
   ]
  },
  {
   "cell_type": "code",
   "execution_count": 6,
   "metadata": {},
   "outputs": [
    {
     "name": "stdout",
     "output_type": "stream",
     "text": [
      "mean1=5648.631594, mean2=5899.006105\n",
      "variance1=14290518.018749, variance2=15321971.236433\n"
     ]
    }
   ],
   "source": [
    "sales = df_train['Sales'].values\n",
    "split = len(sales) // 2\n",
    "X1, X2 = sales[0:split], sales[split:]\n",
    "mean1, mean2 = X1.mean(), X2.mean()\n",
    "var1, var2 = X1.var(), X2.var()\n",
    "print('mean1=%f, mean2=%f' % (mean1, mean2))\n",
    "print('variance1=%f, variance2=%f' % (var1, var2))"
   ]
  },
  {
   "cell_type": "markdown",
   "metadata": {},
   "source": [
    "The data is not statonary because the **means** and **variances** are significantly different"
   ]
  },
  {
   "cell_type": "markdown",
   "metadata": {},
   "source": [
    "###  Autocorrelation and partial autocorrelation"
   ]
  },
  {
   "cell_type": "code",
   "execution_count": 7,
   "metadata": {},
   "outputs": [
    {
     "data": {
      "image/png": "[encoded data removed]",
      "text/plain": [
       "<Figure size 432x288 with 1 Axes>"
      ]
     },
     "metadata": {
      "needs_background": "light"
     },
     "output_type": "display_data"
    }
   ],
   "source": [
    "plot_acf(sales[:20000])\n",
    "plt.show()"
   ]
  },
  {
   "cell_type": "markdown",
   "metadata": {},
   "source": [
    "The Pearson’s correlation coefficient is a number between -1 and 1 that describes a negative or positive correlation respectively. A value of zero indicates no correlation.\n",
    "\n",
    "We can calculate the correlation for time series observations with observations with previous time steps, called lags. Because the correlation of the time series observations is calculated with values of the same series at previous times, this is called a serial correlation, or an autocorrelation.\n",
    "\n",
    "A plot of the autocorrelation of a time series by lag is called the AutoCorrelation Function, or the acronym ACF. This plot is sometimes called a correlogram or an autocorrelation plot.\n",
    "\n",
    "Confidence intervals are drawn as a cone. By default, this is set to a 95% confidence interval, suggesting that correlation values outside of this code are very likely a correlation and not a statistical fluke."
   ]
  },
  {
   "cell_type": "code",
   "execution_count": 8,
   "metadata": {},
   "outputs": [
    {
     "data": {
      "image/png": "[encoded data removed]",
      "text/plain": [
       "<Figure size 432x288 with 1 Axes>"
      ]
     },
     "metadata": {
      "needs_background": "light"
     },
     "output_type": "display_data"
    }
   ],
   "source": [
    "plot_pacf(sales[:20000], lags=100)\n",
    "plt.show()"
   ]
  },
  {
   "cell_type": "markdown",
   "metadata": {},
   "source": [
    "A partial autocorrelation is a summary of the relationship between an observation in a time series with observations at prior time steps with the relationships of intervening observations removed.\n",
    "\n",
    "The autocorrelation for an observation and an observation at a prior time step is comprised of both the direct correlation and indirect correlations. These indirect correlations are a linear function of the correlation of the observation, with observations at intervening time steps.\n",
    "\n",
    "It is these indirect correlations that the partial autocorrelation function seeks to remove. Without going into the math, this is the intuition for the partial autocorrelation."
   ]
  },
  {
   "cell_type": "markdown",
   "metadata": {},
   "source": [
    "### Scale Data"
   ]
  },
  {
   "cell_type": "code",
   "execution_count": 41,
   "metadata": {},
   "outputs": [
    {
     "data": {
      "text/plain": [
       "((942, 19), (935, 1))"
      ]
     },
     "execution_count": 41,
     "metadata": {},
     "output_type": "execute_result"
    }
   ],
   "source": [
    "X = df_train[df_train['Store'] == 16].values[:10000]\n",
    "\n",
    "\n",
    "sc_x = StandardScaler()\n",
    "\n",
    "X = sc_x.fit_transform(X)\n",
    "y = np.array(X[:,[-1]][7:])\n",
    "\n",
    "#X = np.reshape(X, (941, 1, 1))\n",
    "X.shape, y.shape"
   ]
  },
  {
   "cell_type": "code",
   "execution_count": 42,
   "metadata": {},
   "outputs": [
    {
     "data": {
      "text/plain": [
       "(935, 7, 19)"
      ]
     },
     "execution_count": 42,
     "metadata": {},
     "output_type": "execute_result"
    }
   ],
   "source": [
    "def window(array, size):\n",
    "    l = []\n",
    "    for i in range(len(array)-size):\n",
    "        l.append(array[i:i+size])\n",
    "    return np.array(l)\n",
    "X = window(X,7)\n",
    "X.shape"
   ]
  },
  {
   "cell_type": "markdown",
   "metadata": {},
   "source": [
    "### Train Test Split"
   ]
  },
  {
   "cell_type": "code",
   "execution_count": 43,
   "metadata": {},
   "outputs": [
    {
     "data": {
      "text/plain": [
       "((888, 7, 19), (47, 7, 19), (888, 1), (47, 1))"
      ]
     },
     "execution_count": 43,
     "metadata": {},
     "output_type": "execute_result"
    }
   ],
   "source": [
    "ind = int(len(X)*95/100)\n",
    "X_train, X_test, y_train, y_test = X[:ind], X[ind:], y[:ind], y[ind:]\n",
    "X_train.shape, X_test.shape, y_train.shape, y_test.shape"
   ]
  },
  {
   "cell_type": "markdown",
   "metadata": {},
   "source": [
    "## Window Dataset"
   ]
  },
  {
   "cell_type": "code",
   "execution_count": null,
   "metadata": {},
   "outputs": [],
   "source": []
  },
  {
   "cell_type": "code",
   "execution_count": 50,
   "metadata": {},
   "outputs": [
    {
     "name": "stdout",
     "output_type": "stream",
     "text": [
      "_________________________________________________________________\n",
      "Layer (type)                 Output Shape              Param #   \n",
      "=================================================================\n",
      "lstm_13 (LSTM)               (None, 7, 20)             3200      \n",
      "_________________________________________________________________\n",
      "lstm_14 (LSTM)               (None, 10)                1240      \n",
      "_________________________________________________________________\n",
      "dense_6 (Dense)              (None, 1)                 11        \n",
      "=================================================================\n",
      "Total params: 4,451\n",
      "Trainable params: 4,451\n",
      "Non-trainable params: 0\n",
      "_________________________________________________________________\n"
     ]
    }
   ],
   "source": []
  },
  {
   "cell_type": "markdown",
   "metadata": {},
   "source": [
    "### Train Model"
   ]
  },
  {
   "cell_type": "code",
   "execution_count": 44,
   "metadata": {},
   "outputs": [
    {
     "name": "stdout",
     "output_type": "stream",
     "text": [
      "Epoch 1/30\n",
      "888/888 [==============================] - 4s 4ms/sample - loss: 0.9964\n",
      "Epoch 2/30\n",
      "888/888 [==============================] - 1s 1ms/sample - loss: 0.9290\n",
      "Epoch 3/30\n",
      "888/888 [==============================] - 1s 1ms/sample - loss: 0.6167\n",
      "Epoch 4/30\n",
      "888/888 [==============================] - 1s 1ms/sample - loss: 0.3825\n",
      "Epoch 5/30\n",
      "888/888 [==============================] - 1s 1ms/sample - loss: 0.3029\n",
      "Epoch 6/30\n",
      "888/888 [==============================] - 1s 1ms/sample - loss: 0.2814\n",
      "Epoch 7/30\n",
      "888/888 [==============================] - 1s 1ms/sample - loss: 0.2719\n",
      "Epoch 8/30\n",
      "888/888 [==============================] - 1s 2ms/sample - loss: 0.2580\n",
      "Epoch 9/30\n",
      "888/888 [==============================] - 1s 1ms/sample - loss: 0.2553\n",
      "Epoch 10/30\n",
      "888/888 [==============================] - 1s 1ms/sample - loss: 0.2498\n",
      "Epoch 11/30\n",
      "888/888 [==============================] - 1s 1ms/sample - loss: 0.2509\n",
      "Epoch 12/30\n",
      "888/888 [==============================] - 1s 1ms/sample - loss: 0.2517\n",
      "Epoch 13/30\n",
      "888/888 [==============================] - 1s 2ms/sample - loss: 0.2436\n",
      "Epoch 14/30\n",
      "888/888 [==============================] - 1s 1ms/sample - loss: 0.2428 0s - loss: 0.\n",
      "Epoch 15/30\n",
      "888/888 [==============================] - 1s 1ms/sample - loss: 0.2388\n",
      "Epoch 16/30\n",
      "888/888 [==============================] - 1s 1ms/sample - loss: 0.2352\n",
      "Epoch 17/30\n",
      "888/888 [==============================] - 1s 1ms/sample - loss: 0.2345\n",
      "Epoch 18/30\n",
      "888/888 [==============================] - 1s 1ms/sample - loss: 0.2339\n",
      "Epoch 19/30\n",
      "888/888 [==============================] - 1s 1ms/sample - loss: 0.2407\n",
      "Epoch 20/30\n",
      "888/888 [==============================] - 1s 1ms/sample - loss: 0.2307\n",
      "Epoch 21/30\n",
      "888/888 [==============================] - ETA: 0s - loss: 0.234 - 1s 1ms/sample - loss: 0.2332\n",
      "Epoch 22/30\n",
      "888/888 [==============================] - 1s 1ms/sample - loss: 0.2289\n",
      "Epoch 23/30\n",
      "888/888 [==============================] - 1s 1ms/sample - loss: 0.2302\n",
      "Epoch 24/30\n",
      "888/888 [==============================] - 1s 1ms/sample - loss: 0.2253\n",
      "Epoch 25/30\n",
      "888/888 [==============================] - 1s 1ms/sample - loss: 0.2167\n",
      "Epoch 26/30\n",
      "888/888 [==============================] - 1s 1ms/sample - loss: 0.2205\n",
      "Epoch 27/30\n",
      "888/888 [==============================] - 1s 1ms/sample - loss: 0.2215\n",
      "Epoch 28/30\n",
      "888/888 [==============================] - 1s 1ms/sample - loss: 0.2156\n",
      "Epoch 29/30\n",
      "888/888 [==============================] - 1s 1ms/sample - loss: 0.2131\n",
      "Epoch 30/30\n",
      "888/888 [==============================] - 1s 1ms/sample - loss: 0.2122\n"
     ]
    },
    {
     "data": {
      "text/plain": [
       "<tensorflow.python.keras.callbacks.History at 0x14290d66a0>"
      ]
     },
     "execution_count": 44,
     "metadata": {},
     "output_type": "execute_result"
    }
   ],
   "source": [
    "regressor = Sequential()\n",
    "\n",
    "regressor.add(LSTM(20, activation = 'sigmoid', return_sequences=True, input_shape = (7, 19)))\n",
    "regressor.add(LSTM(10))\n",
    "regressor.add(Dense(1))\n",
    "\n",
    "regressor.compile(optimizer = 'adam', loss = 'mean_squared_error')\n",
    "\n",
    "regressor.fit(X_train, y_train, batch_size = 7, epochs = 30)"
   ]
  },
  {
   "cell_type": "markdown",
   "metadata": {},
   "source": [
    "### Test Model"
   ]
  },
  {
   "cell_type": "code",
   "execution_count": 49,
   "metadata": {},
   "outputs": [
    {
     "name": "stdout",
     "output_type": "stream",
     "text": [
      "r2 score: 0.9039739585840261\n",
      "mean squared error: 0.09072634536902094\n"
     ]
    },
    {
     "data": {
      "image/png": "[encoded data removed]",
      "text/plain": [
       "<Figure size 432x288 with 1 Axes>"
      ]
     },
     "metadata": {
      "needs_background": "light"
     },
     "output_type": "display_data"
    }
   ],
   "source": [
    "\n",
    "y_pred = regressor.predict(X_test)\n",
    "#predicted_price = sc.inverse_transform(predicted_price)\n",
    "\n",
    "print('r2 score:', r2_score(y_test, y_pred))\n",
    "print('mean squared error:', mean_squared_error(y_test, y_pred))\n",
    "\n",
    "plt.plot(y_test, color = 'red', label = 'Real Sales')\n",
    "plt.plot(y_pred, color = 'blue', label = 'Predicted Sales')\n",
    "plt.title('Pharma Sales Prediction')\n",
    "plt.xlabel('Time')\n",
    "plt.ylabel('Sales')\n",
    "plt.legend()\n",
    "plt.show()\n"
   ]
  },
  {
   "cell_type": "code",
   "execution_count": 47,
   "metadata": {},
   "outputs": [
    {
     "name": "stdout",
     "output_type": "stream",
     "text": [
      "[[ 0.00000000e+00 -1.00026719e+00  4.60820152e-01 -7.86483758e-01\n",
      "   1.89483396e-01 -4.43790992e-01 -7.63046016e-01  1.14127718e-02\n",
      "   1.51830931e+00 -6.30576017e-01 -1.23656490e+00  0.00000000e+00\n",
      "   0.00000000e+00  0.00000000e+00  0.00000000e+00  0.00000000e+00\n",
      "  -5.42410548e-01 -9.51332484e-01  2.67529623e-01]\n",
      " [ 0.00000000e+00 -4.99602105e-01  4.60820152e-01 -7.86483758e-01\n",
      "   1.89483396e-01 -4.43790992e-01 -6.49277522e-01  1.14127718e-02\n",
      "   1.51830931e+00 -6.30576017e-01 -1.23656490e+00  0.00000000e+00\n",
      "   0.00000000e+00  0.00000000e+00  0.00000000e+00  0.00000000e+00\n",
      "  -5.42410548e-01 -9.13432074e-01  3.81596621e-01]\n",
      " [ 0.00000000e+00  1.06298320e-03  4.60820152e-01 -7.86483758e-01\n",
      "   1.89483396e-01 -4.43790992e-01 -5.35509027e-01  1.14127718e-02\n",
      "   1.51830931e+00 -6.30576017e-01 -1.55542754e-02  0.00000000e+00\n",
      "   0.00000000e+00  0.00000000e+00  0.00000000e+00  0.00000000e+00\n",
      "  -5.42410548e-01 -8.75531664e-01  3.75996433e-01]\n",
      " [ 0.00000000e+00  5.01728072e-01  4.60820152e-01 -7.86483758e-01\n",
      "   1.89483396e-01 -4.43790992e-01 -4.21740533e-01  1.14127718e-02\n",
      "   1.51830931e+00 -6.30576017e-01 -1.55542754e-02  0.00000000e+00\n",
      "   0.00000000e+00  0.00000000e+00  0.00000000e+00  0.00000000e+00\n",
      "  -5.42410548e-01 -8.37631254e-01  1.57294333e-01]\n",
      " [ 0.00000000e+00  1.00239316e+00  4.60820152e-01 -7.86483758e-01\n",
      "   1.89483396e-01 -4.43790992e-01 -3.07972039e-01  1.14127718e-02\n",
      "   1.51830931e+00  1.58585162e+00 -1.55542754e-02  0.00000000e+00\n",
      "   0.00000000e+00  0.00000000e+00  0.00000000e+00  0.00000000e+00\n",
      "  -5.42410548e-01 -7.99730843e-01 -2.27055448e-01]\n",
      " [ 0.00000000e+00  1.50305825e+00 -2.17004399e+00 -7.86483758e-01\n",
      "   1.89483396e-01 -4.43790992e-01 -1.94203544e-01  1.14127718e-02\n",
      "   1.51830931e+00  1.58585162e+00 -1.55542754e-02  0.00000000e+00\n",
      "   0.00000000e+00  0.00000000e+00  0.00000000e+00  0.00000000e+00\n",
      "  -5.42410548e-01 -7.61830433e-01 -1.86732119e+00]\n",
      " [ 0.00000000e+00 -1.50093228e+00  4.60820152e-01  1.27148207e+00\n",
      "   1.89483396e-01 -4.43790992e-01 -8.04350501e-02  1.14127718e-02\n",
      "   1.51830931e+00 -6.30576017e-01 -1.55542754e-02  0.00000000e+00\n",
      "   0.00000000e+00  0.00000000e+00  0.00000000e+00  0.00000000e+00\n",
      "  -5.42410548e-01 -7.23930023e-01  1.36516658e+00]] [1.5135195] [1.36516658]\n"
     ]
    }
   ],
   "source": [
    "print(X_test[1], y_pred[0], y_test[0])"
   ]
  },
  {
   "cell_type": "markdown",
   "metadata": {},
   "source": [
    "### Save Model"
   ]
  },
  {
   "cell_type": "code",
   "execution_count": 28,
   "metadata": {},
   "outputs": [],
   "source": [
    "regressor.save(\"../models/lstm_model.h5\")"
   ]
  },
  {
   "cell_type": "code",
   "execution_count": 29,
   "metadata": {},
   "outputs": [],
   "source": []
  },
  {
   "cell_type": "code",
   "execution_count": null,
   "metadata": {},
   "outputs": [],
   "source": []
  },
  {
   "cell_type": "code",
   "execution_count": null,
   "metadata": {},
   "outputs": [],
   "source": []
  }
 ],
 "metadata": {
  "kernelspec": {
   "display_name": "Python 3",
   "language": "python",
   "name": "python3"
  },
  "language_info": {
   "codemirror_mode": {
    "name": "ipython",
    "version": 3
   },
   "file_extension": ".py",
   "mimetype": "text/x-python",
   "name": "python",
   "nbconvert_exporter": "python",
   "pygments_lexer": "ipython3",
   "version": "3.7.1"
  }
 },
 "nbformat": 4,
 "nbformat_minor": 2
}
